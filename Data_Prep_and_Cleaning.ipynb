{
  "cells": [
    {
      "cell_type": "markdown",
      "source": [
        "CSCI4155: Final Project\n",
        "Treble-Transformer\n",
        "\n",
        "Data processing/saving/loading notebook"
      ],
      "metadata": {
        "id": "EQUko0WuUxQZ"
      }
    },
    {
      "cell_type": "markdown",
      "metadata": {
        "id": "nNghExHyBqsn"
      },
      "source": [
        "#Downloads/Imports"
      ]
    },
    {
      "cell_type": "code",
      "execution_count": null,
      "metadata": {
        "id": "lAzRLxNYBEWD"
      },
      "outputs": [],
      "source": [
        "import glob\n",
        "import numpy as np\n",
        "import pathlib\n",
        "import pandas as pd\n",
        "import torch"
      ]
    },
    {
      "cell_type": "markdown",
      "metadata": {
        "id": "798mK19fBtuw"
      },
      "source": [
        "#Transformer utils"
      ]
    },
    {
      "cell_type": "code",
      "source": [
        "!pip install mido"
      ],
      "metadata": {
        "colab": {
          "base_uri": "https://localhost:8080/"
        },
        "id": "6lQkigdd_ptQ",
        "outputId": "bc57ff3b-3786-4dff-9c89-615254a95604"
      },
      "execution_count": null,
      "outputs": [
        {
          "output_type": "stream",
          "name": "stdout",
          "text": [
            "Requirement already satisfied: mido in /usr/local/lib/python3.7/dist-packages (1.2.10)\n"
          ]
        }
      ]
    },
    {
      "cell_type": "code",
      "execution_count": 20,
      "metadata": {
        "id": "yTu8yxt1BwkN",
        "colab": {
          "base_uri": "https://localhost:8080/"
        },
        "outputId": "6bcb2fdd-c607-431f-d0af-20c120fb867c"
      },
      "outputs": [
        {
          "output_type": "stream",
          "name": "stdout",
          "text": [
            "Drive already mounted at /content/drive/; to attempt to forcibly remount, call drive.mount(\"/content/drive/\", force_remount=True).\n"
          ]
        }
      ],
      "source": [
        "#Needs to be directed to utils referenced from https://github.com/spectraldoy/MusicTransformerTensorFlow\n",
        "import sys\n",
        "from google.colab import drive\n",
        "drive.mount('/content/drive/')\n",
        "sys.path.append('/content/drive/MyDrive/CSCI4155/Group Work/DataPrep')\n",
        "#sys.path.insert(0,'/content/drive/MyDrive/CSCI4155/Group Work/DataPrep')\n",
        "import transformerutil6 as tu"
      ]
    },
    {
      "cell_type": "markdown",
      "metadata": {
        "id": "JOnPT5i0Ceyj"
      },
      "source": [
        "#Data Prep\n",
        "Takes some time"
      ]
    },
    {
      "cell_type": "code",
      "execution_count": 21,
      "metadata": {
        "colab": {
          "base_uri": "https://localhost:8080/"
        },
        "id": "jJYZx-XyBK5P",
        "outputId": "e1378ea4-af97-4985-8850-f976a3aab211"
      },
      "outputs": [
        {
          "output_type": "stream",
          "name": "stdout",
          "text": [
            "Number of files: 1276\n"
          ]
        }
      ],
      "source": [
        "import pathlib\n",
        "import glob\n",
        "#Map to the maestro v.3 folder\n",
        "data_dir = pathlib.Path('/content/drive/MyDrive/CSCI4155/Group Work/DataPrep/maestro-v3.0.0')\n",
        "filenames = glob.glob(str(data_dir/'**/*.mid*'))\n",
        "#If 0, path wrong or drive not connected\n",
        "print('Number of files:', len(filenames))"
      ]
    },
    {
      "cell_type": "code",
      "source": [
        "# MUSIC GENERATION / DECODING PHASE\n",
        "# Vocabulary defined based on Oore et. al 2018 used in vocab above\n",
        "note_on_vocab = [f\"note_on_{i}\" for i in range(128)]\n",
        "note_off_vocab = [f\"note_off_{i}\" for i in range(128)]\n",
        "time_shift_vocab = [f\"time_shift_{i}\" for i in range(125)]\n",
        "velocity_vocab = [f\"set_velocity_{i}\" for i in range(32)]\n",
        "num_midi_events = len(note_on_vocab) + len(note_off_vocab) + len(time_shift_vocab) + len(velocity_vocab)\n",
        "\n",
        "# Lines borrowed from spectraldoy repo\n",
        "vocab = [\"<pad>\"] + note_on_vocab + note_off_vocab + time_shift_vocab + velocity_vocab + [\"<start>\", \"<end>\"]\n",
        "vocab_size = len(vocab)"
      ],
      "metadata": {
        "id": "LYe3LfhY9g9L"
      },
      "execution_count": 22,
      "outputs": []
    },
    {
      "cell_type": "code",
      "source": [
        "#Function to change data from using \"set_velocity_0 note_on_#\" to \"note_off_#\"\n",
        "def refineNoteOff(data, vocab):\n",
        "  newData = []\n",
        "  \n",
        "  for i in range(0, len(data)):\n",
        "    #Temporary holder for song to prune data\n",
        "    temp = data[i]\n",
        "    currSize = len(temp)\n",
        "    j = 0\n",
        "\n",
        "    #Using a while loop, so it checks the size condition every time\n",
        "    while(j != currSize):\n",
        "      if temp[j] == 382: #found 'set_velocity_0'\n",
        "        #print(f'found vel = 0 at {j}/{len(data[i])} in song {i+1}')\n",
        "        #The following note is the one being turned off\n",
        "        onNoteEvent = vocab[temp[j+1]]\n",
        "        #print(f'The following note {onNoteEvent}')\n",
        "        #Split event by underscore, last index is note\n",
        "        noteToOff = onNoteEvent.split('_')[-1] \n",
        "        #print(noteToOff)\n",
        "        noteOffInd = vocab.index(f'note_off_{noteToOff}')\n",
        "        #print(f'note_off ind {noteOffInd} confirm: {vocab[noteOffInd]}')\n",
        "\n",
        "        #List leading up to 'set_velocity_0', the corresponding note_off for the following note\n",
        "        #Then the rest of the list after the second 'note_on' (originally used to turn it off)\n",
        "        temp = np.concatenate((temp[:j], np.array([noteOffInd], dtype=np.int32), temp[j+2:]), axis=None)\n",
        "        #The event indices have decreased in size, so we need to update the loop bounds\n",
        "        currSize -= 1\n",
        "      #increment over temp\n",
        "      j += 1\n",
        "    \n",
        "    #Append placeholder to new data\n",
        "    newData.append(temp)\n",
        "  \n",
        "  return newData"
      ],
      "metadata": {
        "id": "5idMagpsfifa"
      },
      "execution_count": 70,
      "outputs": []
    },
    {
      "cell_type": "markdown",
      "source": [
        "##Example"
      ],
      "metadata": {
        "id": "Fo2TcIqLTZNb"
      }
    },
    {
      "cell_type": "code",
      "source": [
        "indsong, tokensong = tu.Midiparser('/content/drive/MyDrive/CSCI4155/Group Work/Midi dissection/VampireKillerCV1.mid')\n",
        "print(indsong[:20])\n",
        "print(tu.indices_to_events(indsong[:20]))\n",
        "#song in a list to mimic data\n",
        "indsong = refineNoteOff([indsong], vocab)\n",
        "print(indsong[:20])\n",
        "#Events now show note off's\n",
        "print(tu.indices_to_events(indsong[0][:20]))"
      ],
      "metadata": {
        "colab": {
          "base_uri": "https://localhost:8080/"
        },
        "id": "0oqkaTuwOTxb",
        "outputId": "ce807d81-a43e-41cf-8f00-3605473e6a56"
      },
      "execution_count": 74,
      "outputs": [
        {
          "output_type": "stream",
          "name": "stdout",
          "text": [
            "[405  70 270 382  70 257 405  70 270 382  70 272 405  68 270 382  68 272\n",
            " 405  68]\n",
            "['set_velocity_23', 'note_on_69', 'time_shift_13', 'set_velocity_0', 'note_on_69', 'time_shift_0', 'set_velocity_23', 'note_on_69', 'time_shift_13', 'set_velocity_0', 'note_on_69', 'time_shift_15', 'set_velocity_23', 'note_on_67', 'time_shift_13', 'set_velocity_0', 'note_on_67', 'time_shift_15', 'set_velocity_23', 'note_on_67']\n",
            "[array([405,  70, 270, ...,  41, 270, 169], dtype=int32)]\n",
            "['set_velocity_23', 'note_on_69', 'time_shift_13', 'note_off_69', 'time_shift_0', 'set_velocity_23', 'note_on_69', 'time_shift_13', 'note_off_69', 'time_shift_15', 'set_velocity_23', 'note_on_67', 'time_shift_13', 'note_off_67', 'time_shift_15', 'set_velocity_23', 'note_on_67', 'time_shift_79', 'note_off_67', 'time_shift_9']\n"
          ]
        }
      ]
    },
    {
      "cell_type": "markdown",
      "source": [
        "##Process data function"
      ],
      "metadata": {
        "id": "FO5WBQwg9MZe"
      }
    },
    {
      "cell_type": "code",
      "source": [
        "import numpy as np\n",
        "#Denominator of the division of data. if unspecific, all data will be used\n",
        "def preproData(fileNames, vocab, denom=1):\n",
        "  #All data\n",
        "  data = []\n",
        "  filesToRead = round(len(fileNames)/denom)\n",
        "  print(f\"Files to be read: ({filesToRead}/{len(fileNames)}) \")\n",
        "\n",
        "  for i in range(0, filesToRead):\n",
        "    #Here we're only using the events indices, don't curr need the returned list\n",
        "    eventIndices, eventlist = tu.Midiparser(fname=fileNames[i])\n",
        "    data.append(eventIndices)\n",
        "\n",
        "  print(\"Files read in: \",len(data))\n",
        "  print(\"Converting vel_0/note_on to note_off...\")\n",
        "  data = refineNoteOff(data, vocab)\n",
        "  print(\"Cutting up data and surrounding with <start> & <end> tokens...\")\n",
        "  data = tu.data_cutter(data)\n",
        "\n",
        "  #Convert to numpy for easy conversions\n",
        "  data = data.numpy()\n",
        "  return data"
      ],
      "metadata": {
        "id": "O6zKjTEN7sHx"
      },
      "execution_count": 75,
      "outputs": []
    },
    {
      "cell_type": "code",
      "source": [
        "data = preproData(filenames, vocab, denom=12)"
      ],
      "metadata": {
        "colab": {
          "base_uri": "https://localhost:8080/"
        },
        "id": "QjM0aTmT9r4G",
        "outputId": "0c462a74-8ef1-4545-d08d-e197456782d7"
      },
      "execution_count": 76,
      "outputs": [
        {
          "output_type": "stream",
          "name": "stdout",
          "text": [
            "Files to be read: (106/1276) \n",
            "Files read in:  106\n",
            "Converting vel_0/note_on to note_off...\n",
            "Cutting up data and surrounding with <start> & <end> tokens...\n"
          ]
        }
      ]
    },
    {
      "cell_type": "markdown",
      "metadata": {
        "id": "7LFHWHasFunz"
      },
      "source": [
        "##Visualize/Saving"
      ]
    },
    {
      "cell_type": "code",
      "execution_count": 77,
      "metadata": {
        "colab": {
          "base_uri": "https://localhost:8080/",
          "height": 235
        },
        "id": "GZrg7TNIFtxx",
        "outputId": "5070c828-b6a1-40e4-b387-2b6f73fd6bf0"
      },
      "outputs": [
        {
          "output_type": "execute_result",
          "data": {
            "text/plain": [
              "   0     1     2     3     4     5     6     7     8     9     ...  2040  \\\n",
              "0   414   364   395    75   262   392    47   278   175   257  ...    66   \n",
              "1   414   262   194   264   400    73   257   197   281   397  ...   259   \n",
              "2   414   206   259   401    75   270   404    73   203   257  ...   399   \n",
              "3   414   393    47   311   392    35   327   179   257   182  ...   258   \n",
              "4   414   258   395    66   259   395    62   258   402    83  ...    50   \n",
              "\n",
              "   2041  2042  2043  2044  2045  2046  2047  2048  2049  \n",
              "0   258   201   269   400    69   258   395    57   415  \n",
              "1   191   257   182   403    78   258   211   262   415  \n",
              "2    59   278   397    54   281   395    51   285   415  \n",
              "3   400    74   260   202   214   268   395    59   415  \n",
              "4   259   171   187   257   178   279   404    30   415  \n",
              "\n",
              "[5 rows x 2050 columns]"
            ],
            "text/html": [
              "\n",
              "  <div id=\"df-f304e803-d77e-4b84-9014-b24291de5be1\">\n",
              "    <div class=\"colab-df-container\">\n",
              "      <div>\n",
              "<style scoped>\n",
              "    .dataframe tbody tr th:only-of-type {\n",
              "        vertical-align: middle;\n",
              "    }\n",
              "\n",
              "    .dataframe tbody tr th {\n",
              "        vertical-align: top;\n",
              "    }\n",
              "\n",
              "    .dataframe thead th {\n",
              "        text-align: right;\n",
              "    }\n",
              "</style>\n",
              "<table border=\"1\" class=\"dataframe\">\n",
              "  <thead>\n",
              "    <tr style=\"text-align: right;\">\n",
              "      <th></th>\n",
              "      <th>0</th>\n",
              "      <th>1</th>\n",
              "      <th>2</th>\n",
              "      <th>3</th>\n",
              "      <th>4</th>\n",
              "      <th>5</th>\n",
              "      <th>6</th>\n",
              "      <th>7</th>\n",
              "      <th>8</th>\n",
              "      <th>9</th>\n",
              "      <th>...</th>\n",
              "      <th>2040</th>\n",
              "      <th>2041</th>\n",
              "      <th>2042</th>\n",
              "      <th>2043</th>\n",
              "      <th>2044</th>\n",
              "      <th>2045</th>\n",
              "      <th>2046</th>\n",
              "      <th>2047</th>\n",
              "      <th>2048</th>\n",
              "      <th>2049</th>\n",
              "    </tr>\n",
              "  </thead>\n",
              "  <tbody>\n",
              "    <tr>\n",
              "      <th>0</th>\n",
              "      <td>414</td>\n",
              "      <td>364</td>\n",
              "      <td>395</td>\n",
              "      <td>75</td>\n",
              "      <td>262</td>\n",
              "      <td>392</td>\n",
              "      <td>47</td>\n",
              "      <td>278</td>\n",
              "      <td>175</td>\n",
              "      <td>257</td>\n",
              "      <td>...</td>\n",
              "      <td>66</td>\n",
              "      <td>258</td>\n",
              "      <td>201</td>\n",
              "      <td>269</td>\n",
              "      <td>400</td>\n",
              "      <td>69</td>\n",
              "      <td>258</td>\n",
              "      <td>395</td>\n",
              "      <td>57</td>\n",
              "      <td>415</td>\n",
              "    </tr>\n",
              "    <tr>\n",
              "      <th>1</th>\n",
              "      <td>414</td>\n",
              "      <td>262</td>\n",
              "      <td>194</td>\n",
              "      <td>264</td>\n",
              "      <td>400</td>\n",
              "      <td>73</td>\n",
              "      <td>257</td>\n",
              "      <td>197</td>\n",
              "      <td>281</td>\n",
              "      <td>397</td>\n",
              "      <td>...</td>\n",
              "      <td>259</td>\n",
              "      <td>191</td>\n",
              "      <td>257</td>\n",
              "      <td>182</td>\n",
              "      <td>403</td>\n",
              "      <td>78</td>\n",
              "      <td>258</td>\n",
              "      <td>211</td>\n",
              "      <td>262</td>\n",
              "      <td>415</td>\n",
              "    </tr>\n",
              "    <tr>\n",
              "      <th>2</th>\n",
              "      <td>414</td>\n",
              "      <td>206</td>\n",
              "      <td>259</td>\n",
              "      <td>401</td>\n",
              "      <td>75</td>\n",
              "      <td>270</td>\n",
              "      <td>404</td>\n",
              "      <td>73</td>\n",
              "      <td>203</td>\n",
              "      <td>257</td>\n",
              "      <td>...</td>\n",
              "      <td>399</td>\n",
              "      <td>59</td>\n",
              "      <td>278</td>\n",
              "      <td>397</td>\n",
              "      <td>54</td>\n",
              "      <td>281</td>\n",
              "      <td>395</td>\n",
              "      <td>51</td>\n",
              "      <td>285</td>\n",
              "      <td>415</td>\n",
              "    </tr>\n",
              "    <tr>\n",
              "      <th>3</th>\n",
              "      <td>414</td>\n",
              "      <td>393</td>\n",
              "      <td>47</td>\n",
              "      <td>311</td>\n",
              "      <td>392</td>\n",
              "      <td>35</td>\n",
              "      <td>327</td>\n",
              "      <td>179</td>\n",
              "      <td>257</td>\n",
              "      <td>182</td>\n",
              "      <td>...</td>\n",
              "      <td>258</td>\n",
              "      <td>400</td>\n",
              "      <td>74</td>\n",
              "      <td>260</td>\n",
              "      <td>202</td>\n",
              "      <td>214</td>\n",
              "      <td>268</td>\n",
              "      <td>395</td>\n",
              "      <td>59</td>\n",
              "      <td>415</td>\n",
              "    </tr>\n",
              "    <tr>\n",
              "      <th>4</th>\n",
              "      <td>414</td>\n",
              "      <td>258</td>\n",
              "      <td>395</td>\n",
              "      <td>66</td>\n",
              "      <td>259</td>\n",
              "      <td>395</td>\n",
              "      <td>62</td>\n",
              "      <td>258</td>\n",
              "      <td>402</td>\n",
              "      <td>83</td>\n",
              "      <td>...</td>\n",
              "      <td>50</td>\n",
              "      <td>259</td>\n",
              "      <td>171</td>\n",
              "      <td>187</td>\n",
              "      <td>257</td>\n",
              "      <td>178</td>\n",
              "      <td>279</td>\n",
              "      <td>404</td>\n",
              "      <td>30</td>\n",
              "      <td>415</td>\n",
              "    </tr>\n",
              "  </tbody>\n",
              "</table>\n",
              "<p>5 rows × 2050 columns</p>\n",
              "</div>\n",
              "      <button class=\"colab-df-convert\" onclick=\"convertToInteractive('df-f304e803-d77e-4b84-9014-b24291de5be1')\"\n",
              "              title=\"Convert this dataframe to an interactive table.\"\n",
              "              style=\"display:none;\">\n",
              "        \n",
              "  <svg xmlns=\"http://www.w3.org/2000/svg\" height=\"24px\"viewBox=\"0 0 24 24\"\n",
              "       width=\"24px\">\n",
              "    <path d=\"M0 0h24v24H0V0z\" fill=\"none\"/>\n",
              "    <path d=\"M18.56 5.44l.94 2.06.94-2.06 2.06-.94-2.06-.94-.94-2.06-.94 2.06-2.06.94zm-11 1L8.5 8.5l.94-2.06 2.06-.94-2.06-.94L8.5 2.5l-.94 2.06-2.06.94zm10 10l.94 2.06.94-2.06 2.06-.94-2.06-.94-.94-2.06-.94 2.06-2.06.94z\"/><path d=\"M17.41 7.96l-1.37-1.37c-.4-.4-.92-.59-1.43-.59-.52 0-1.04.2-1.43.59L10.3 9.45l-7.72 7.72c-.78.78-.78 2.05 0 2.83L4 21.41c.39.39.9.59 1.41.59.51 0 1.02-.2 1.41-.59l7.78-7.78 2.81-2.81c.8-.78.8-2.07 0-2.86zM5.41 20L4 18.59l7.72-7.72 1.47 1.35L5.41 20z\"/>\n",
              "  </svg>\n",
              "      </button>\n",
              "      \n",
              "  <style>\n",
              "    .colab-df-container {\n",
              "      display:flex;\n",
              "      flex-wrap:wrap;\n",
              "      gap: 12px;\n",
              "    }\n",
              "\n",
              "    .colab-df-convert {\n",
              "      background-color: #E8F0FE;\n",
              "      border: none;\n",
              "      border-radius: 50%;\n",
              "      cursor: pointer;\n",
              "      display: none;\n",
              "      fill: #1967D2;\n",
              "      height: 32px;\n",
              "      padding: 0 0 0 0;\n",
              "      width: 32px;\n",
              "    }\n",
              "\n",
              "    .colab-df-convert:hover {\n",
              "      background-color: #E2EBFA;\n",
              "      box-shadow: 0px 1px 2px rgba(60, 64, 67, 0.3), 0px 1px 3px 1px rgba(60, 64, 67, 0.15);\n",
              "      fill: #174EA6;\n",
              "    }\n",
              "\n",
              "    [theme=dark] .colab-df-convert {\n",
              "      background-color: #3B4455;\n",
              "      fill: #D2E3FC;\n",
              "    }\n",
              "\n",
              "    [theme=dark] .colab-df-convert:hover {\n",
              "      background-color: #434B5C;\n",
              "      box-shadow: 0px 1px 3px 1px rgba(0, 0, 0, 0.15);\n",
              "      filter: drop-shadow(0px 1px 2px rgba(0, 0, 0, 0.3));\n",
              "      fill: #FFFFFF;\n",
              "    }\n",
              "  </style>\n",
              "\n",
              "      <script>\n",
              "        const buttonEl =\n",
              "          document.querySelector('#df-f304e803-d77e-4b84-9014-b24291de5be1 button.colab-df-convert');\n",
              "        buttonEl.style.display =\n",
              "          google.colab.kernel.accessAllowed ? 'block' : 'none';\n",
              "\n",
              "        async function convertToInteractive(key) {\n",
              "          const element = document.querySelector('#df-f304e803-d77e-4b84-9014-b24291de5be1');\n",
              "          const dataTable =\n",
              "            await google.colab.kernel.invokeFunction('convertToInteractive',\n",
              "                                                     [key], {});\n",
              "          if (!dataTable) return;\n",
              "\n",
              "          const docLinkHtml = 'Like what you see? Visit the ' +\n",
              "            '<a target=\"_blank\" href=https://colab.research.google.com/notebooks/data_table.ipynb>data table notebook</a>'\n",
              "            + ' to learn more about interactive tables.';\n",
              "          element.innerHTML = '';\n",
              "          dataTable['output_type'] = 'display_data';\n",
              "          await google.colab.output.renderOutput(dataTable, element);\n",
              "          const docLink = document.createElement('div');\n",
              "          docLink.innerHTML = docLinkHtml;\n",
              "          element.appendChild(docLink);\n",
              "        }\n",
              "      </script>\n",
              "    </div>\n",
              "  </div>\n",
              "  "
            ]
          },
          "metadata": {},
          "execution_count": 77
        }
      ],
      "source": [
        "import pandas as pd\n",
        "\n",
        "#Pandas handles saving better\n",
        "df = pd.DataFrame(data)\n",
        "df.head()"
      ]
    },
    {
      "cell_type": "code",
      "execution_count": null,
      "metadata": {
        "id": "x6IA8Tm9F8yT"
      },
      "outputs": [],
      "source": [
        "# saving the dataframe \n",
        "path = '/content/drive/MyDrive/CSCI4155/Group Work/DataPrep/'\n",
        "name = f'maestrodata_{len(data)}.csv'\n",
        "df.to_csv(path+name) "
      ]
    },
    {
      "cell_type": "code",
      "source": [
        "df.shape"
      ],
      "metadata": {
        "colab": {
          "base_uri": "https://localhost:8080/"
        },
        "id": "vxjPp1uDyu_8",
        "outputId": "ab33af83-49b7-456c-99ad-03fc6e8dc839"
      },
      "execution_count": null,
      "outputs": [
        {
          "output_type": "execute_result",
          "data": {
            "text/plain": [
              "(4043, 2050)"
            ]
          },
          "metadata": {},
          "execution_count": 14
        }
      ]
    },
    {
      "cell_type": "markdown",
      "metadata": {
        "id": "UdWSp1IHGq-w"
      },
      "source": [
        "#Torch dataset/loader"
      ]
    },
    {
      "cell_type": "code",
      "execution_count": null,
      "metadata": {
        "id": "IpMzMViiGuSs"
      },
      "outputs": [],
      "source": [
        "import torchvision\n",
        "import numpy as np\n",
        "\n",
        "from torch.utils.data import Dataset\n",
        "from torch.utils.data import DataLoader"
      ]
    },
    {
      "cell_type": "markdown",
      "metadata": {
        "id": "ZQuX9lXvGxKm"
      },
      "source": [
        "##If loading data from saved .csv (faster)"
      ]
    },
    {
      "cell_type": "code",
      "execution_count": null,
      "metadata": {
        "colab": {
          "base_uri": "https://localhost:8080/"
        },
        "id": "F6Ev8sb-G0Bs",
        "outputId": "2572c8ea-c56c-4da8-c5fb-a51031d7bc47"
      },
      "outputs": [
        {
          "output_type": "execute_result",
          "data": {
            "text/plain": [
              "array([414, 364, 395, ..., 395,  57, 415], dtype=int32)"
            ]
          },
          "metadata": {},
          "execution_count": 10
        }
      ],
      "source": [
        "#Data from save file\n",
        "data = np.genfromtxt('/content/drive/MyDrive/CSCI4155/Group Work/DataPrep/maestrodata_1023.csv',delimiter=',', skip_header=1, dtype=np.int32)\n",
        "\n",
        "#The above df csv adds row labels, we don't need those\\\n",
        "#Don't do this if there wasn't row labels\n",
        "data = data[:,1:]\n",
        "data[0]"
      ]
    },
    {
      "cell_type": "markdown",
      "metadata": {
        "id": "nFEiSxKgHJGI"
      },
      "source": [
        "##Dataset"
      ]
    },
    {
      "cell_type": "code",
      "execution_count": null,
      "metadata": {
        "id": "-BR5oswKHILA"
      },
      "outputs": [],
      "source": [
        "class MIDIDataSet(Dataset):\n",
        "  def __init__(self, data, mode=\"test\", split=(0.8, 0.1, 0.1)):\n",
        "    assert np.sum(split) == 1, \"Split tuple must add up to 1\"\n",
        "    \n",
        "    #Train, val, test split\n",
        "    lth = data.shape[0]\n",
        "    train_len = round(lth * split[0])\n",
        "    val_len = round(lth * split[1])\n",
        "    test_len = round(lth * split[2])\n",
        "    \n",
        "    if train_len + val_len + test_len != lth:\n",
        "      test_len += lth - (train_len + val_len + test_len)\n",
        "       \n",
        "\n",
        "    '''This split starts the input at the first value up to (excluding) the last val <end>, \n",
        "    target starts from 2nd value up to (including) <end>\n",
        "    They are connected by the second value, teaching our model how to continue from that point'''\n",
        "    if mode==\"test\":\n",
        "      test_data = data[train_len + val_len:]\n",
        "      print(f\"There are {test_len} files in the test_data\")\n",
        "      self.x = test_data[:,:-1]\n",
        "      self.y = test_data[:, 1:]\n",
        "\n",
        "    elif mode==\"val\":\n",
        "      val_data = data[train_len:val_len + train_len]\n",
        "      print(f\"There are {val_len} files in the val_data\")\n",
        "      self.x = val_data[:,:-1]\n",
        "      self.y = val_data[:, 1:]\n",
        "\n",
        "    else: #Train\n",
        "      train_data = data[:train_len]\n",
        "      print(f\"There are {train_len} files in the train_data\")\n",
        "      self.x = train_data[:,:-1]\n",
        "      self.y = train_data[:, 1:]\n",
        "\n",
        "    self.n = len(self.x)\n",
        "\n",
        "  def __getitem__(self, index):\n",
        "    #dataset[0]\n",
        "    return self.x[index], self.y[index]\n",
        "  \n",
        "  def __len__(self):\n",
        "    #len(dataset)\n",
        "    return self.n"
      ]
    },
    {
      "cell_type": "code",
      "execution_count": null,
      "metadata": {
        "colab": {
          "base_uri": "https://localhost:8080/"
        },
        "id": "f9JiHUPbItDO",
        "outputId": "abd99149-dc13-4aa6-fbb7-c80938ad6510"
      },
      "outputs": [
        {
          "name": "stdout",
          "output_type": "stream",
          "text": [
            "There are 16061 files in the train_data\n",
            "Train size 16061\n",
            "torch.Size([32, 2049]) torch.Size([32, 2049])\n",
            "Input: tensor([[414., 382.,  65.,  ...,  89., 400.,  88.],\n",
            "        [414., 258., 404.,  ..., 257., 394.,  53.],\n",
            "        [414.,  59., 259.,  ..., 399.,  73., 267.],\n",
            "        ...,\n",
            "        [414., 258., 404.,  ..., 382.,  49., 263.],\n",
            "        [414., 382.,  53.,  ..., 394.,  56., 257.],\n",
            "        [414., 260., 397.,  ..., 312., 395.,  67.]], dtype=torch.float64)\n",
            "Label: tensor([[382.,  65., 257.,  ..., 400.,  88., 415.],\n",
            "        [258., 404.,  61.,  ..., 394.,  53., 415.],\n",
            "        [ 59., 259., 382.,  ...,  73., 267., 415.],\n",
            "        ...,\n",
            "        [258., 404.,  34.,  ...,  49., 263., 415.],\n",
            "        [382.,  53., 258.,  ...,  56., 257., 415.],\n",
            "        [260., 397.,  47.,  ..., 395.,  67., 415.]], dtype=torch.float64)\n"
          ]
        }
      ],
      "source": [
        "#Example data extraction:\n",
        "#Training data\n",
        "train_data = MIDIDataSet(data,mode=\"train\")\n",
        "print('Train size', len(train_data))\n",
        "#All tree training, val and testing data will need Dataloaders and iterators\n",
        "trainLoader = DataLoader(dataset=train_data, batch_size=32, shuffle=True) \n",
        "train_dataIter = iter(trainLoader)\n",
        "train_x, train_labels = train_dataIter.next()\n",
        "print(train_x.shape, train_labels.shape)\n",
        "print('Input:', train_x)\n",
        "print('Label:',train_labels)"
      ]
    },
    {
      "cell_type": "markdown",
      "metadata": {
        "id": "jvvEDIqxdXgy"
      },
      "source": [
        "# Methods for Creating a midi file"
      ]
    },
    {
      "cell_type": "markdown",
      "source": [
        "##Simplest"
      ],
      "metadata": {
        "id": "Duiux7_xUmLl"
      }
    },
    {
      "cell_type": "code",
      "execution_count": null,
      "metadata": {
        "id": "7QuzFPyZe0Go"
      },
      "outputs": [],
      "source": [
        "m=tu.Listparser(index_list=list(data[0]), event_list=None, fname=\"test\", tempo=512820)"
      ]
    },
    {
      "cell_type": "code",
      "execution_count": null,
      "metadata": {
        "id": "LSqS749_ftVZ"
      },
      "outputs": [],
      "source": [
        "m.save(\"test1.mid\")"
      ]
    },
    {
      "cell_type": "markdown",
      "source": [
        "##Others"
      ],
      "metadata": {
        "id": "tIpBRnhaUk1c"
      }
    },
    {
      "cell_type": "code",
      "execution_count": null,
      "metadata": {
        "colab": {
          "base_uri": "https://localhost:8080/"
        },
        "id": "Ghi6rboSdhe2",
        "outputId": "3b08305f-bfd9-4033-a104-acd1c2b0f8ad"
      },
      "outputs": [
        {
          "name": "stdout",
          "output_type": "stream",
          "text": [
            "Requirement already satisfied: MIDIUtil in /usr/local/lib/python3.7/dist-packages (1.2.1)\n",
            "Requirement already satisfied: mido in /usr/local/lib/python3.7/dist-packages (1.2.10)\n"
          ]
        }
      ],
      "source": [
        "! pip install MIDIUtil\n",
        "! pip install mido"
      ]
    },
    {
      "cell_type": "code",
      "execution_count": null,
      "metadata": {
        "id": "eT81dPYFdZOX"
      },
      "outputs": [],
      "source": [
        "from midiutil.MidiFile import MIDIFile\n",
        "\n",
        "# create your MIDI object\n",
        "mf = MIDIFile(1)     # only 1 track\n",
        "track = 0   # the only track\n",
        "\n",
        "time = 0    # start at the beginning\n",
        "mf.addTrackName(track, time, \"Sample Track\")\n",
        "mf.addTempo(track, time, 120)\n",
        "\n",
        "# add some notes\n",
        "channel = 0\n",
        "volume = 100\n",
        "\n",
        "pitch = 60           # C4 (middle C)\n",
        "time = 0             # start on beat 0\n",
        "duration = 1         # 1 beat long\n",
        "mf.addNote(track, channel, pitch, time, duration, volume)\n",
        "\n",
        "pitch = 64           # E4\n",
        "time = 2             # start on beat 2\n",
        "duration = 1         # 1 beat long\n",
        "mf.addNote(track, channel, pitch, time, duration, volume)\n",
        "\n",
        "pitch = 67           # G4\n",
        "time = 4             # start on beat 4\n",
        "duration = 1         # 1 beat long\n",
        "mf.addNote(track, channel, pitch, time, duration, volume)\n",
        "\n",
        "# write it to disk\n",
        "with open(\"output.mid\", 'wb') as outf:\n",
        "    mf.writeFile(outf)"
      ]
    },
    {
      "cell_type": "code",
      "execution_count": null,
      "metadata": {
        "colab": {
          "base_uri": "https://localhost:8080/"
        },
        "id": "DBsDQcSmgE3a",
        "outputId": "08117bcf-f4a0-40ed-913f-a689e3e6272d"
      },
      "outputs": [
        {
          "name": "stdout",
          "output_type": "stream",
          "text": [
            "<class 'list'>\n",
            "[364 395  75 ... 258 382  71]\n"
          ]
        }
      ],
      "source": [
        "print(type(list(data[0])))\n",
        "print(data[0])"
      ]
    },
    {
      "cell_type": "code",
      "execution_count": null,
      "metadata": {
        "id": "adgNunPodx4l"
      },
      "outputs": [],
      "source": [
        "from midiutil.MidiFile import MIDIFile\n",
        "import mido\n",
        "# create your MIDI object\n",
        "mf = MIDIFile(1)     # only 1 track\n",
        "track = 0   # the only track\n",
        "\n",
        "time = 0    # start at the beginning\n",
        "mf.addTrackName(track, time, \"Sample Track\")\n",
        "mf.addTempo(track, time, 120)\n",
        "\n",
        "# add some notes\n",
        "channel = 0\n",
        "volume = 100\n",
        "\n",
        "pitch = 60           # C4 (middle C)\n",
        "time = 0             # start on beat 0\n",
        "duration = 1         # 1 beat long\n",
        "#mf.addNote(track, channel, pitch, time, duration, volume)\n",
        "annotation = \"note_on\"\n",
        "mf.append((mido.Message(annotation).copy(note=note, velocity=vel, time=delta)))\n",
        "\n",
        "pitch = 64           # E4\n",
        "time = 2             # start on beat 2\n",
        "duration = 1         # 1 beat long\n",
        "mf.addNote(track, channel, pitch, time, duration, volume)\n",
        "\n",
        "pitch = 67           # G4\n",
        "time = 4             # start on beat 4\n",
        "duration = 1         # 1 beat long\n",
        "mf.addNote(track, channel, pitch, time, duration, volume)\n",
        "\n",
        "# write it to disk\n",
        "with open(\"output.mid\", 'wb') as outf:\n",
        "    mf.writeFile(outf)"
      ]
    }
  ],
  "metadata": {
    "colab": {
      "collapsed_sections": [
        "nNghExHyBqsn",
        "JOnPT5i0Ceyj",
        "Duiux7_xUmLl",
        "tIpBRnhaUk1c"
      ],
      "name": "Data Prep and Cleaning.ipynb",
      "provenance": []
    },
    "kernelspec": {
      "display_name": "Python 3",
      "name": "python3"
    },
    "language_info": {
      "name": "python"
    }
  },
  "nbformat": 4,
  "nbformat_minor": 0
}